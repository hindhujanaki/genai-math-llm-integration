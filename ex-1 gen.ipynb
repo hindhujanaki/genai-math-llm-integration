{
 "cells": [
  {
   "cell_type": "code",
   "execution_count": 1,
   "id": "504d2cfb",
   "metadata": {
    "height": 897
   },
   "outputs": [
    {
     "name": "stdout",
     "output_type": "stream",
     "text": [
      "Enter the radius of the cylinder: 10\n",
      "Enter the height of the cylinder: 5\n",
      "The volume of the cylinder is 1570.80 cubic units.\n"
     ]
    }
   ],
   "source": [
    "import openai\n",
    "import json\n",
    "import math\n",
    "\n",
    "def calculate_cylinder_volume(radius: float, height: float) -> float:\n",
    "    \"\"\"Calculate the volume of a cylinder.\"\"\"\n",
    "    return math.pi * radius**2 * height\n",
    "\n",
    "# Define available functions for the LLM\n",
    "functions = [\n",
    "    {\n",
    "        \"name\": \"calculate_cylinder_volume\",\n",
    "        \"description\": \"Calculate the volume of a cylinder given radius and height.\",\n",
    "        \"parameters\": {\n",
    "            \"type\": \"object\",\n",
    "            \"properties\": {\n",
    "                \"radius\": {\"type\": \"number\", \"description\": \"Radius of the cylinder.\"},\n",
    "                \"height\": {\"type\": \"number\", \"description\": \"Height of the cylinder.\"}\n",
    "            },\n",
    "            \"required\": [\"radius\", \"height\"]\n",
    "        }\n",
    "    }\n",
    "]\n",
    "\n",
    "# Function to handle chat completion with function calling\n",
    "def chat_with_function(user_input: str):\n",
    "    response = openai.ChatCompletion.create(\n",
    "        model=\"gpt-4-1106-preview\",  # Ensure this is a function-calling supported model\n",
    "        messages=[{\"role\": \"user\", \"content\": user_input}],\n",
    "        functions=functions,\n",
    "        function_call=\"auto\"  # Let the model decide if function calling is needed\n",
    "    )\n",
    "    \n",
    "    message = response[\"choices\"][0][\"message\"]\n",
    "    if message.get(\"function_call\"):\n",
    "        function_name = message[\"function_call\"][\"name\"]\n",
    "        arguments = json.loads(message[\"function_call\"][\"arguments\"])\n",
    "        \n",
    "        if function_name == \"calculate_cylinder_volume\":\n",
    "            result = calculate_cylinder_volume(**arguments)\n",
    "            return f\"The volume of the cylinder is {result:.2f} cubic units.\"\n",
    "    \n",
    "    return message.get(\"content\", \"I couldn't process your request.\")\n",
    "\n",
    "# Example usage\n",
    "if __name__ == \"__main__\":\n",
    "    radius = float(input(\"Enter the radius of the cylinder: \"))\n",
    "    height = float(input(\"Enter the height of the cylinder: \"))\n",
    "    user_query = f\"What is the volume of a cylinder with radius {radius} and height {height}?\"\n",
    "    print(chat_with_function(user_query))\n",
    "\n"
   ]
  },
  {
   "cell_type": "code",
   "execution_count": 2,
   "id": "0102649f",
   "metadata": {
    "height": 897
   },
   "outputs": [
    {
     "name": "stdout",
     "output_type": "stream",
     "text": [
      "Enter the radius of the cylinder: 20\n",
      "Enter the height of the cylinder: 5\n",
      "The volume of the cylinder is 6283.19 cubic units.\n"
     ]
    }
   ],
   "source": [
    "import openai\n",
    "import json\n",
    "import math\n",
    "\n",
    "def calculate_cylinder_volume(radius: float, height: float) -> float:\n",
    "    \"\"\"Calculate the volume of a cylinder.\"\"\"\n",
    "    return math.pi * radius**2 * height\n",
    "\n",
    "# Define available functions for the LLM\n",
    "functions = [\n",
    "    {\n",
    "        \"name\": \"calculate_cylinder_volume\",\n",
    "        \"description\": \"Calculate the volume of a cylinder given radius and height.\",\n",
    "        \"parameters\": {\n",
    "            \"type\": \"object\",\n",
    "            \"properties\": {\n",
    "                \"radius\": {\"type\": \"number\", \"description\": \"Radius of the cylinder.\"},\n",
    "                \"height\": {\"type\": \"number\", \"description\": \"Height of the cylinder.\"}\n",
    "            },\n",
    "            \"required\": [\"radius\", \"height\"]\n",
    "        }\n",
    "    }\n",
    "]\n",
    "\n",
    "# Function to handle chat completion with function calling\n",
    "def chat_with_function(user_input: str):\n",
    "    response = openai.ChatCompletion.create(\n",
    "        model=\"gpt-4-1106-preview\",  # Ensure this is a function-calling supported model\n",
    "        messages=[{\"role\": \"user\", \"content\": user_input}],\n",
    "        functions=functions,\n",
    "        function_call=\"auto\"  # Let the model decide if function calling is needed\n",
    "    )\n",
    "    \n",
    "    message = response[\"choices\"][0][\"message\"]\n",
    "    if message.get(\"function_call\"):\n",
    "        function_name = message[\"function_call\"][\"name\"]\n",
    "        arguments = json.loads(message[\"function_call\"][\"arguments\"])\n",
    "        \n",
    "        if function_name == \"calculate_cylinder_volume\":\n",
    "            result = calculate_cylinder_volume(**arguments)\n",
    "            return f\"The volume of the cylinder is {result:.2f} cubic units.\"\n",
    "    \n",
    "    return message.get(\"content\", \"I couldn't process your request.\")\n",
    "\n",
    "# Example usage\n",
    "if __name__ == \"__main__\":\n",
    "    radius = float(input(\"Enter the radius of the cylinder: \"))\n",
    "    height = float(input(\"Enter the height of the cylinder: \"))\n",
    "    user_query = f\"What is the volume of a cylinder with radius {radius} and height {height}?\"\n",
    "    print(chat_with_function(user_query))\n",
    "\n"
   ]
  },
  {
   "cell_type": "code",
   "execution_count": null,
   "id": "b5fedc70",
   "metadata": {
    "height": 30
   },
   "outputs": [],
   "source": []
  }
 ],
 "metadata": {
  "kernelspec": {
   "display_name": "Python 3 (ipykernel)",
   "language": "python",
   "name": "python3"
  },
  "language_info": {
   "codemirror_mode": {
    "name": "ipython",
    "version": 3
   },
   "file_extension": ".py",
   "mimetype": "text/x-python",
   "name": "python",
   "nbconvert_exporter": "python",
   "pygments_lexer": "ipython3",
   "version": "3.9.19"
  }
 },
 "nbformat": 4,
 "nbformat_minor": 5
}
